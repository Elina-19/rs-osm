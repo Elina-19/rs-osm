{
 "cells": [
  {
   "cell_type": "code",
   "execution_count": 4,
   "metadata": {},
   "outputs": [],
   "source": [
    "import pandas as pd\n",
    "from fuzzywuzzy import fuzz\n",
    "from sklearn.preprocessing import MinMaxScaler\n",
    "import numpy as np"
   ]
  },
  {
   "cell_type": "code",
   "execution_count": 5,
   "metadata": {},
   "outputs": [
    {
     "ename": "SyntaxError",
     "evalue": "(unicode error) 'unicodeescape' codec can't decode bytes in position 2-3: truncated \\UXXXXXXXX escape (880175541.py, line 2)",
     "output_type": "error",
     "traceback": [
      "\u001b[1;36m  Cell \u001b[1;32mIn[5], line 2\u001b[1;36m\u001b[0m\n\u001b[1;33m    df = pd.read_csv('C:\\Users\\HP\\Desktop\\4 курс\\car_battery.csv')\u001b[0m\n\u001b[1;37m                                                                 ^\u001b[0m\n\u001b[1;31mSyntaxError\u001b[0m\u001b[1;31m:\u001b[0m (unicode error) 'unicodeescape' codec can't decode bytes in position 2-3: truncated \\UXXXXXXXX escape\n"
     ]
    }
   ],
   "source": [
    "# Загрузим данные\n",
    "df = pd.read_csv('C:\\Users\\HP\\Desktop\\4 курс\\car_battery.csv')"
   ]
  },
  {
   "cell_type": "code",
   "execution_count": null,
   "metadata": {},
   "outputs": [],
   "source": [
    "# Предположим, что у нас есть две батареи, которые мы хотим сравнить\n",
    "battery1 = df.iloc[0]  # Определяем два товара для сравнения\n",
    "battery2 = df.iloc[1]\n",
    "\n",
    "# Словарь, представляющий важность каждого атрибута (нужно предварительно определить)\n",
    "weights = {\n",
    "    'name': 1.0,\n",
    "    'voltage': 0.8,\n",
    "    'typeOfBattery': 0.8,\n",
    "    'klemmy': 0.8,\n",
    "    'height': 0.6,\n",
    "    'weight': 0.6,\n",
    "    'length': 0.6,\n",
    "    'width': 0.6,\n",
    "    'description': 0.3,\n",
    "    # Добавьте все сравниваемые атрибуты\n",
    "}"
   ]
  },
  {
   "cell_type": "code",
   "execution_count": null,
   "metadata": {},
   "outputs": [],
   "source": [
    "# Функция для сравнения двух батарей\n",
    "def compare_batteries(battery1, battery2):\n",
    "    total_score = 0\n",
    "    \n",
    "    for attribute, weight in weights.items():\n",
    "        value1 = battery1[attribute]\n",
    "        value2 = battery2[attribute]\n",
    "        \n",
    "        # Если одно из значений пропущено, это значение должно быть учетено с меньшим весом\n",
    "        if pd.isnull(value1) or pd.isnull(value2):\n",
    "            weight *= 0.5\n",
    "        \n",
    "        # Если это строка, используем нечеткую схожесть\n",
    "        if isinstance(value1, str):\n",
    "            # Представляем все буквы в нижнем регистре\n",
    "            value1 = value1.lower()\n",
    "            value2 = value2.lower()\n",
    "            score = fuzz.ratio(value1, value2) / 100.0  # Эта функция вернет число от 0 до 100\n",
    "        else:\n",
    "            # Используем абсолютную разницу для численных значений\n",
    "            # Это не идеальная метрика, но ее можно использовать в качестве простого примера\n",
    "            max_value = max(df[attribute])  \n",
    "            min_value = min(df[attribute])\n",
    "            if max_value == min_value:  \n",
    "                score = 1.0\n",
    "            else:\n",
    "                score = 1.0 - abs(value1 - value2) / (max_value - min_value)\n",
    "        \n",
    "        # Прибавляем к общему счету, умножая на вес атрибута\n",
    "        total_score += weight * score\n",
    "    \n",
    "    return total_score"
   ]
  },
  {
   "cell_type": "code",
   "execution_count": null,
   "metadata": {},
   "outputs": [],
   "source": [
    "# Получаем оценку сходства для двух батарей\n",
    "similarity = compare_batteries(battery1, battery2)"
   ]
  }
 ],
 "metadata": {
  "kernelspec": {
   "display_name": "Python 3 (ipykernel)",
   "language": "python",
   "name": "python3"
  },
  "language_info": {
   "codemirror_mode": {
    "name": "ipython",
    "version": 3
   },
   "file_extension": ".py",
   "mimetype": "text/x-python",
   "name": "python",
   "nbconvert_exporter": "python",
   "pygments_lexer": "ipython3",
   "version": "3.10.2"
  }
 },
 "nbformat": 4,
 "nbformat_minor": 4
}
